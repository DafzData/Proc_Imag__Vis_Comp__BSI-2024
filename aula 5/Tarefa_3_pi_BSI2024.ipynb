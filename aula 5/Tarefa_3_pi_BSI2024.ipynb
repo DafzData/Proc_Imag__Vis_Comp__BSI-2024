{
  "cells": [
    {
      "cell_type": "markdown",
      "metadata": {
        "id": "qVXiGsxdAoWK"
      },
      "source": [
        "# ***Atividade III (em grupo) - Visão Computacional com biblioteca OpenCV***\n",
        "\n",
        "# **Detecção de Faces e Sorrisos**\n",
        "\n",
        "Instruções:\n",
        "\n",
        "a) Utilizar as fotos da turma (com pessoas nas diferentes situações abaixo) e carregar do disco do colab (pasta ao lado esquerdo)\n",
        "\n",
        "1.   Pessoa sorrindo\n",
        "2.   Pessoa olhando para o lado/cima/baixo\n",
        "3.   Pessoa séria\n",
        "\n",
        "\n",
        "b) realizar cada item do roteiro abaixo utilizando e modificando o código em python fornecido pelo professor. O aluno pode e deve incluir qualquer outra operação de processamento como melhora no contraste (equalização de histograma) ou suavização da imagem (eliminação de ruídos com filtro gaussiano) e outros, incluindo os parâmetros como scaleFactor, minNeighbors, minSize, maxSize, até que seja identificado o maior número de faces na imagem.\n",
        "\n",
        "c) após a finalização da atividade, permita o acesso ao link compartilhado do seu colab e envie o link para o Google Classroom, incluindo as imagens de cada um dos itens resultantes a seguir (detecção de faces, sorrisos, desfoque)\n",
        "\n",
        "\n",
        "\n",
        "**Nomes do grupo:**\n",
        "\n",
        "1- Fulano...\n",
        "\n",
        "2- Beltrano...\n",
        "\n",
        "3- ...\n"
      ]
    },
    {
      "cell_type": "markdown",
      "metadata": {
        "id": "CzaPYcWrA0wh"
      },
      "source": [
        "# **1) Lendo e Exibindo Imagem:**"
      ]
    },
    {
      "cell_type": "code",
      "execution_count": null,
      "metadata": {
        "id": "bIHAlZdlJeJQ"
      },
      "outputs": [],
      "source": []
    },
    {
      "cell_type": "markdown",
      "metadata": {
        "id": "xs3KA8xKA2AI"
      },
      "source": [
        "# **2) Redimensionar proporcionalmente imagem para um tamanho menor (a dimensão da altura da imagem deve ser menor que 600 pixels)**\n",
        "\n"
      ]
    },
    {
      "cell_type": "code",
      "execution_count": null,
      "metadata": {
        "id": "Bgw0HF_JA2GI"
      },
      "outputs": [],
      "source": []
    },
    {
      "cell_type": "markdown",
      "metadata": {
        "id": "5Lo-0oTEA2MY"
      },
      "source": [
        "# **3) Detecção de Faces com OpenCV**"
      ]
    },
    {
      "cell_type": "code",
      "execution_count": null,
      "metadata": {
        "id": "A3HivM_LA2SJ"
      },
      "outputs": [],
      "source": []
    },
    {
      "cell_type": "markdown",
      "metadata": {
        "id": "jcgxlqmBA2Xo"
      },
      "source": [
        "# **4) Detecçao e Desfoque de Faces com OpenCV**"
      ]
    },
    {
      "cell_type": "code",
      "execution_count": null,
      "metadata": {
        "id": "I1J3VzzhBjvY"
      },
      "outputs": [],
      "source": []
    },
    {
      "cell_type": "markdown",
      "metadata": {
        "id": "TvNquSNkBj-Y"
      },
      "source": [
        "# **5) Detecção de Faces com Sorrisos**"
      ]
    },
    {
      "cell_type": "code",
      "execution_count": null,
      "metadata": {
        "id": "CFPL3SZ0BkI4"
      },
      "outputs": [],
      "source": []
    },
    {
      "cell_type": "markdown",
      "metadata": {
        "id": "fLKfkJJt9B7s"
      },
      "source": [
        "# **Observações sobre a detecção de sorrisos e faces na atividade!**\n",
        "\n",
        "## Algumas considerações sobre o aumento do valor do scaleFactor:\n",
        "\n",
        "\n",
        "- Aumentar o scaleFactor reduz o tempo de detecção: Um valor maior de scaleFactor fará com que o processo de detecção seja mais rápido, porém detecções mais rápidas podem perder detalhes em objetos menores.\n",
        "\n",
        "- Assim, se você estiver interessado apenas em objetos maiores, um scaleFactor maior pode ser adequado.\n",
        "\n",
        "- Potencial para perder detecções: usar um scaleFactor muito grande pode fazer com que o classificador perca objetos menores na imagem, pois eles podem não ser redimensionados o suficiente para serem detectados. Isso pode resultar em falsos negativos.\n",
        "\n",
        "- Impacto na precisão: o aumento do scaleFactor pode aumentar o número de falsos positivos, já que objetos não relacionados podem ser considerados candidatos a detecção devido à menor sensibilidade.\n",
        "\n",
        "## Algumas considerações sobre demais parâmetros em:\n",
        "\n",
        "### faces = face_cascade.detectMultiScale(imagem_cinza, scaleFactor=1.1, minNeighbors=5, minSize=(30, 30), maxSize=(300, 300))\n",
        "\n",
        "### smiles = smile_cascade.detectMultiScale(roi_gray, scaleFactor=1.8, minNeighbors=20)\n",
        "\n",
        "minNeighbors:\n",
        " - Este parâmetro especifica quantos vizinhos cada retângulo candidato deve ter para ser considerado uma detecção válida. Isso ajuda a remover falsos positivos. A escolha apropriada do valor de minNeighbors depende das necessidades da sua aplicação.\n",
        " - Um valor maior de minNeighbors tornará a detecção mais restrita, reduzindo o número de detecções, enquanto um valor menor tornará a detecção mais sensível, permitindo mais detecções, mas com um risco maior de falsos positivos. Experimentar diferentes valores de minNeighbors é uma maneira de equilibrar a sensibilidade da detecção com a precisão.\n",
        "\n",
        "### minSize=(30, 30): Define o tamanho mínimo em pixels do objeto a ser detectado.\n",
        " - Qualquer objeto menor do que isso será ignorado.\n",
        "\n",
        "\n",
        "### maxSize=(300, 300): Define o tamanho máximo em pixels do objeto a ser detectado.\n",
        " - Qualquer objeto maior do que isso será ignorado."
      ]
    }
  ],
  "metadata": {
    "colab": {
      "provenance": []
    },
    "kernelspec": {
      "display_name": "Python 3",
      "name": "python3"
    },
    "language_info": {
      "name": "python"
    }
  },
  "nbformat": 4,
  "nbformat_minor": 0
}